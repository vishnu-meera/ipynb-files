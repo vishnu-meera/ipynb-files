{
  "nbformat": 4,
  "nbformat_minor": 0,
  "metadata": {
    "colab": {
      "provenance": [],
      "authorship_tag": "ABX9TyN6hIpoVyBUc3SZ4IQ7DYJN",
      "include_colab_link": true
    },
    "kernelspec": {
      "name": "python3",
      "display_name": "Python 3"
    },
    "language_info": {
      "name": "python"
    }
  },
  "cells": [
    {
      "cell_type": "markdown",
      "metadata": {
        "id": "view-in-github",
        "colab_type": "text"
      },
      "source": [
        "<a href=\"https://colab.research.google.com/github/vishnu-meera/ipynb-files/blob/main/oop.ipynb\" target=\"_parent\"><img src=\"https://colab.research.google.com/assets/colab-badge.svg\" alt=\"Open In Colab\"/></a>"
      ]
    },
    {
      "cell_type": "code",
      "execution_count": 1,
      "metadata": {
        "id": "1qs7BXZP0mU9"
      },
      "outputs": [],
      "source": [
        "import numpy as np\n",
        "\n",
        "class Model(object):\n",
        "  def __init__(self, numlayers, numunits, name):\n",
        "    self.layers = numlayers\n",
        "    self.units = numunits\n",
        "    self.name = name\n",
        "    self.weights = np.random.randn(numlayers, self.units)\n",
        "\n",
        "  def howManyUnits(self):\n",
        "    totalUnits = self.layers * self.units\n",
        "    print(f'there are {totalUnits} in the model')\n",
        "\n",
        "  def trainModel(self, x, y):\n",
        "    self.weights = self.weights * x + y\n",
        "\n",
        "  def __str__(self):\n",
        "    return f'This is a {self.name} architecture'"
      ]
    },
    {
      "cell_type": "code",
      "source": [
        "m2  = Model(2,3,'X')\n",
        "m2.weights"
      ],
      "metadata": {
        "colab": {
          "base_uri": "https://localhost:8080/"
        },
        "id": "JO6qJc_aOavx",
        "outputId": "cc50c31f-cbf4-408e-bb1f-43e0aa5a13f8"
      },
      "execution_count": 2,
      "outputs": [
        {
          "output_type": "execute_result",
          "data": {
            "text/plain": [
              "array([[-0.95193585, -1.20980486, -1.56618086],\n",
              "       [-1.20480977, -1.29514482, -0.24398107]])"
            ]
          },
          "metadata": {},
          "execution_count": 2
        }
      ]
    },
    {
      "cell_type": "code",
      "source": [
        "m2.trainModel(2,3)\n",
        "m2.weights"
      ],
      "metadata": {
        "colab": {
          "base_uri": "https://localhost:8080/"
        },
        "id": "EN8m1J-xOoQd",
        "outputId": "10ec6879-db3f-4540-c95a-a63333ed2847"
      },
      "execution_count": 3,
      "outputs": [
        {
          "output_type": "execute_result",
          "data": {
            "text/plain": [
              "array([[ 1.09612829,  0.58039028, -0.13236172],\n",
              "       [ 0.59038047,  0.40971035,  2.51203786]])"
            ]
          },
          "metadata": {},
          "execution_count": 3
        }
      ]
    }
  ]
}