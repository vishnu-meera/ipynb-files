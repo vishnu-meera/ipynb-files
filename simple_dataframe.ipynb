{
  "nbformat": 4,
  "nbformat_minor": 0,
  "metadata": {
    "colab": {
      "provenance": [],
      "authorship_tag": "ABX9TyNaHdoiUVkbmGDXenDg4xGX",
      "include_colab_link": true
    },
    "kernelspec": {
      "name": "python3",
      "display_name": "Python 3"
    },
    "language_info": {
      "name": "python"
    }
  },
  "cells": [
    {
      "cell_type": "markdown",
      "metadata": {
        "id": "view-in-github",
        "colab_type": "text"
      },
      "source": [
        "<a href=\"https://colab.research.google.com/github/vishnu-meera/ipynb-files/blob/main/simple_dataframe.ipynb\" target=\"_parent\"><img src=\"https://colab.research.google.com/assets/colab-badge.svg\" alt=\"Open In Colab\"/></a>"
      ]
    },
    {
      "cell_type": "code",
      "execution_count": 1,
      "metadata": {
        "colab": {
          "base_uri": "https://localhost:8080/"
        },
        "id": "BgtPVn1OIUlp",
        "outputId": "d25afed1-84b7-4e4c-e7f4-3beda263925f"
      },
      "outputs": [
        {
          "output_type": "stream",
          "name": "stdout",
          "text": [
            "120\n",
            "1124000727777607680000\n"
          ]
        }
      ],
      "source": [
        "import numpy as np\n",
        "import pandas as pd\n",
        "\n",
        "numbers = np.array(range(1,11))\n",
        "labels = [\"numbers\", \"squares\", \"log\"]\n",
        "\n",
        "d = {labels[0]: numbers, labels[1]: numbers**2, labels[2]: np.log(numbers)}\n",
        "df = pd.DataFrame(data=d)\n",
        "\n",
        "def factorial(number):\n",
        "  result = 1\n",
        "  while number > 0:\n",
        "    result = result *number\n",
        "    number = number -1\n",
        "  return result\n",
        "print(factorial(5))\n",
        "print(factorial(22))"
      ]
    },
    {
      "cell_type": "code",
      "source": [
        "def coinFlip(N):\n",
        "  propCoinFlips = np.mean( np.random.randn(100)>0 )\n",
        "  print( str(N) + ' coin flips hahd ' + str(100 * propCoinFlips) + ' % heads.')\n",
        "\n",
        "coinFlip(50000000)\n",
        "# sampling variability"
      ],
      "metadata": {
        "colab": {
          "base_uri": "https://localhost:8080/"
        },
        "id": "85zzC27MxyNr",
        "outputId": "e03c98be-2f6a-427a-a2a7-e6b40f9966ac"
      },
      "execution_count": 22,
      "outputs": [
        {
          "output_type": "stream",
          "name": "stdout",
          "text": [
            "50000000 coin flips hahd 49.0 % heads.\n"
          ]
        }
      ]
    },
    {
      "cell_type": "code",
      "source": [
        "import copy\n",
        "\n",
        "x = [1,2,3,4,5,6]\n",
        "y = copy.deepcopy(x)\n",
        "print(id(x))\n",
        "print(id(y))"
      ],
      "metadata": {
        "colab": {
          "base_uri": "https://localhost:8080/"
        },
        "id": "sPPAJcAgzgfU",
        "outputId": "8b5886f1-4d86-49c6-9af9-17d310efec98"
      },
      "execution_count": 25,
      "outputs": [
        {
          "output_type": "stream",
          "name": "stdout",
          "text": [
            "133003291129664\n",
            "133003291129600\n"
          ]
        }
      ]
    },
    {
      "cell_type": "markdown",
      "source": [],
      "metadata": {
        "id": "u7LwSReRzk4m"
      }
    }
  ]
}