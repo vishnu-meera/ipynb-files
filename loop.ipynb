{
  "nbformat": 4,
  "nbformat_minor": 0,
  "metadata": {
    "colab": {
      "provenance": [],
      "authorship_tag": "ABX9TyM2TFAOi8RIDks62v2HFIgi",
      "include_colab_link": true
    },
    "kernelspec": {
      "name": "python3",
      "display_name": "Python 3"
    },
    "language_info": {
      "name": "python"
    }
  },
  "cells": [
    {
      "cell_type": "markdown",
      "metadata": {
        "id": "view-in-github",
        "colab_type": "text"
      },
      "source": [
        "<a href=\"https://colab.research.google.com/github/vishnu-meera/ipynb-files/blob/main/loop.ipynb\" target=\"_parent\"><img src=\"https://colab.research.google.com/assets/colab-badge.svg\" alt=\"Open In Colab\"/></a>"
      ]
    },
    {
      "cell_type": "code",
      "execution_count": 13,
      "metadata": {
        "colab": {
          "base_uri": "https://localhost:8080/"
        },
        "id": "nfeMPbHHO8ew",
        "outputId": "d3b804a5-1365-4e87-dc00-41f51b64c1f2"
      },
      "outputs": [
        {
          "output_type": "execute_result",
          "data": {
            "text/plain": [
              "np.int64(24)"
            ]
          },
          "metadata": {},
          "execution_count": 13
        }
      ],
      "source": [
        "import numpy as np\n",
        "\n",
        "def dotProduct(x,y):\n",
        "  if not (isinstance(x, np.ndarray) and isinstance(y, np.ndarray)):\n",
        "    raise Exception(f'{x} and {y} needs to be numpy.ndarray')\n",
        "\n",
        "  if len(x) != len(y):\n",
        "    raise Exception(f'{x} and {y} length needs to be equal')\n",
        "\n",
        "  return np.dot(x,y)\n",
        "\n",
        "x = np.array([1,2,4])\n",
        "y = np.array([2,3,4])\n",
        "\n",
        "dotProduct(x,y)"
      ]
    },
    {
      "cell_type": "code",
      "source": [
        "for i in range(6):\n",
        "  print(i)"
      ],
      "metadata": {
        "colab": {
          "base_uri": "https://localhost:8080/"
        },
        "id": "lbJM3MnUV8iA",
        "outputId": "917cf82f-7a0e-4751-dcec-697b73103351"
      },
      "execution_count": 14,
      "outputs": [
        {
          "output_type": "stream",
          "name": "stdout",
          "text": [
            "0\n",
            "1\n",
            "2\n",
            "3\n",
            "4\n",
            "5\n"
          ]
        }
      ]
    },
    {
      "cell_type": "code",
      "source": [
        "for i in range(6,11):\n",
        "  print(i)"
      ],
      "metadata": {
        "colab": {
          "base_uri": "https://localhost:8080/"
        },
        "id": "_9j2Mvj4WH-z",
        "outputId": "2c369c3c-93f1-4fed-e491-ce705a4eb9ee"
      },
      "execution_count": 15,
      "outputs": [
        {
          "output_type": "stream",
          "name": "stdout",
          "text": [
            "6\n",
            "7\n",
            "8\n",
            "9\n",
            "10\n"
          ]
        }
      ]
    },
    {
      "cell_type": "code",
      "source": [
        "def fibnocci(n, memo={}):\n",
        "    if n == 0:\n",
        "      return 0\n",
        "    elif n == 1:\n",
        "      return 1\n",
        "    elif n in memo:\n",
        "      return memo[n]\n",
        "    else:\n",
        "      memo[n] = fibnocci(n-1) + fibnocci(n-2)\n",
        "      return memo[n]\n",
        "fibnocci(7)\n",
        "\n"
      ],
      "metadata": {
        "colab": {
          "base_uri": "https://localhost:8080/"
        },
        "id": "C9V5zHf7WNdR",
        "outputId": "9fde8839-c007-40c7-a906-5ec2ec60b72a"
      },
      "execution_count": 31,
      "outputs": [
        {
          "output_type": "execute_result",
          "data": {
            "text/plain": [
              "13"
            ]
          },
          "metadata": {},
          "execution_count": 31
        }
      ]
    },
    {
      "cell_type": "code",
      "source": [
        "def fib_list(n):\n",
        "  lis = [0,1]\n",
        "  if n < 0:\n",
        "    raise Exception(f'incorrect n')\n",
        "  if n == 0:\n",
        "    return lis[0]\n",
        "  elif n == 1:\n",
        "    return lis[1]\n",
        "  else:\n",
        "    for i in range(2,n+1):\n",
        "      lis.append(lis[i-1] + lis[i-2])\n",
        "    return lis\n",
        "\n",
        "fib_list(10)"
      ],
      "metadata": {
        "colab": {
          "base_uri": "https://localhost:8080/"
        },
        "id": "REJ85ODShc5j",
        "outputId": "6223080e-690b-4105-a6b7-62841a890918"
      },
      "execution_count": 51,
      "outputs": [
        {
          "output_type": "execute_result",
          "data": {
            "text/plain": [
              "[0, 1, 1, 2, 3, 5, 8, 13, 21, 34, 55]"
            ]
          },
          "metadata": {},
          "execution_count": 51
        }
      ]
    },
    {
      "cell_type": "code",
      "source": [
        "ns = np.linspace(-5,5,7)\n",
        "\n",
        "for i in range(len(ns)):\n",
        "  print(f'Index of {str(i)} has a value of {str(ns[i])}')\n",
        "\n",
        "for i,n in enumerate(ns):\n",
        "  print(f'Index of {str(i)} has a value of {str(n)}')"
      ],
      "metadata": {
        "colab": {
          "base_uri": "https://localhost:8080/"
        },
        "id": "9dHgCJD-kdLI",
        "outputId": "762b1ef7-7064-4b66-8d7e-a8910a7cb560"
      },
      "execution_count": 55,
      "outputs": [
        {
          "output_type": "stream",
          "name": "stdout",
          "text": [
            "Index of 0 has a value of -5.0\n",
            "Index of 1 has a value of -3.333333333333333\n",
            "Index of 2 has a value of -1.6666666666666665\n",
            "Index of 3 has a value of 0.0\n",
            "Index of 4 has a value of 1.666666666666667\n",
            "Index of 5 has a value of 3.333333333333334\n",
            "Index of 6 has a value of 5.0\n",
            "Index of 0 has a value of -5.0\n",
            "Index of 1 has a value of -3.333333333333333\n",
            "Index of 2 has a value of -1.6666666666666665\n",
            "Index of 3 has a value of 0.0\n",
            "Index of 4 has a value of 1.666666666666667\n",
            "Index of 5 has a value of 3.333333333333334\n",
            "Index of 6 has a value of 5.0\n"
          ]
        }
      ]
    },
    {
      "cell_type": "code",
      "source": [
        "names = ['alpha', 'beta', 'gamma']\n",
        "values = [10,20,30]\n",
        "d = {}\n",
        "for key, value in zip(names, values):\n",
        "  d[key] = value\n",
        "\n",
        "d"
      ],
      "metadata": {
        "colab": {
          "base_uri": "https://localhost:8080/"
        },
        "id": "XIyOKry3mO1L",
        "outputId": "2f58288c-e8fa-4dc3-e36f-0968c411156d"
      },
      "execution_count": 56,
      "outputs": [
        {
          "output_type": "execute_result",
          "data": {
            "text/plain": [
              "{'alpha': 10, 'beta': 20, 'gamma': 30}"
            ]
          },
          "metadata": {},
          "execution_count": 56
        }
      ]
    },
    {
      "cell_type": "code",
      "source": [
        "z = dict(zip(names, values))\n",
        "z"
      ],
      "metadata": {
        "colab": {
          "base_uri": "https://localhost:8080/"
        },
        "id": "fzn5YQgcmmeg",
        "outputId": "0b222a3b-080c-4f27-dacb-e6278b8d0f42"
      },
      "execution_count": 57,
      "outputs": [
        {
          "output_type": "execute_result",
          "data": {
            "text/plain": [
              "{'alpha': 10, 'beta': 20, 'gamma': 30}"
            ]
          },
          "metadata": {},
          "execution_count": 57
        }
      ]
    },
    {
      "cell_type": "code",
      "source": [
        "from time import perf_counter as pc\n",
        "N = 10000\n",
        "\n",
        "start = pc()\n",
        "m = np.zeros(N)\n",
        "for i in range(N):\n",
        "  m[i] = i**2\n",
        "stop = pc()\n",
        "print(f'time taken {(stop - start)*1000}')\n",
        "\n",
        "\n",
        "start = pc()\n",
        "n = np.full(N,0)\n",
        "for i in range(N):\n",
        "  n[i] = i**2\n",
        "stop = pc()\n",
        "print(f'time taken {(stop - start)*1000}')\n",
        "\n",
        "start = pc()\n",
        "o = np.array([])\n",
        "for i in range(N):\n",
        "  o = np.append(o,i**2)\n",
        "stop = pc()\n",
        "print(f'time taken {(stop - start)*1000}')\n",
        "\n",
        "start = pc()\n",
        "p = []\n",
        "for i in range(N):\n",
        "  p.append(i**2)\n",
        "stop = pc()\n",
        "print(f'time taken {(stop - start)*1000}')"
      ],
      "metadata": {
        "colab": {
          "base_uri": "https://localhost:8080/"
        },
        "id": "qa9Cy5Gcon2U",
        "outputId": "7ba888ab-5e41-4e8d-a460-f46ec5814b69"
      },
      "execution_count": 63,
      "outputs": [
        {
          "output_type": "stream",
          "name": "stdout",
          "text": [
            "time taken 3.078267000091728\n",
            "time taken 2.2835390000182088\n",
            "time taken 48.59307799961243\n",
            "time taken 1.573129999997036\n"
          ]
        }
      ]
    },
    {
      "cell_type": "code",
      "source": [
        "lists = [i**2 for i in range(10)]\n",
        "lists"
      ],
      "metadata": {
        "colab": {
          "base_uri": "https://localhost:8080/"
        },
        "id": "ZmSpzXuata4E",
        "outputId": "f68f3ee5-a198-486e-ec42-35a508a6e366"
      },
      "execution_count": 65,
      "outputs": [
        {
          "output_type": "execute_result",
          "data": {
            "text/plain": [
              "[0, 1, 4, 9, 16, 25, 36, 49, 64, 81]"
            ]
          },
          "metadata": {},
          "execution_count": 65
        }
      ]
    },
    {
      "cell_type": "code",
      "source": [
        "text = ['Promising', 'Yves', 'that', 'home', 'on', 'Nobb']\n",
        "\n",
        "[word[0] for _,word in enumerate(text)]"
      ],
      "metadata": {
        "colab": {
          "base_uri": "https://localhost:8080/"
        },
        "id": "vQnu6f7EtuG5",
        "outputId": "8928fcfa-8f30-4a3f-a6ba-40a524228cef"
      },
      "execution_count": 71,
      "outputs": [
        {
          "output_type": "execute_result",
          "data": {
            "text/plain": [
              "['P', 'Y', 't', 'h', 'o', 'N']"
            ]
          },
          "metadata": {},
          "execution_count": 71
        }
      ]
    },
    {
      "cell_type": "code",
      "source": [
        "['Odd' if i%2 ==1 else i for i in range(10)]"
      ],
      "metadata": {
        "colab": {
          "base_uri": "https://localhost:8080/"
        },
        "id": "390b1d8Ou8ZC",
        "outputId": "23bc2408-0d0d-42f3-88ad-64b4c7c2df1c"
      },
      "execution_count": 85,
      "outputs": [
        {
          "output_type": "execute_result",
          "data": {
            "text/plain": [
              "[0, 'Odd', 2, 'Odd', 4, 'Odd', 6, 'Odd', 8, 'Odd']"
            ]
          },
          "metadata": {},
          "execution_count": 85
        }
      ]
    },
    {
      "cell_type": "code",
      "source": [
        "def linspace(start,stop,number):\n",
        "  return [start + i * ((stop-start)/(number-1)) for i in range(number)]\n",
        "\n",
        "x1 = linspace(-3,3,11)\n",
        "y1 = [x**2 for x in x1]\n",
        "print(x1)\n",
        "print(y1)"
      ],
      "metadata": {
        "colab": {
          "base_uri": "https://localhost:8080/"
        },
        "id": "VJAoRvifvGEM",
        "outputId": "d7df3f32-0df9-4f8b-e449-b675d2c85365"
      },
      "execution_count": 86,
      "outputs": [
        {
          "output_type": "stream",
          "name": "stdout",
          "text": [
            "[-3.0, -2.4, -1.8, -1.2000000000000002, -0.6000000000000001, 0.0, 0.5999999999999996, 1.2000000000000002, 1.7999999999999998, 2.3999999999999995, 3.0]\n",
            "[9.0, 5.76, 3.24, 1.4400000000000004, 0.3600000000000001, 0.0, 0.3599999999999996, 1.4400000000000004, 3.2399999999999993, 5.759999999999997, 9.0]\n"
          ]
        }
      ]
    },
    {
      "cell_type": "code",
      "source": [
        "def poissonCounter(l):\n",
        "  target = np.exp(-l)\n",
        "  curValue, counter = 1,0\n",
        "  while curValue > target:\n",
        "    counter = counter + 1\n",
        "    curValue = curValue * np.random.rand()\n",
        "  return counter\n",
        "\n",
        "poissonCounter(10)"
      ],
      "metadata": {
        "colab": {
          "base_uri": "https://localhost:8080/"
        },
        "id": "sX_7m4hSyJWk",
        "outputId": "e74a2586-ba58-457a-f3f0-79254d06236f"
      },
      "execution_count": 104,
      "outputs": [
        {
          "output_type": "execute_result",
          "data": {
            "text/plain": [
              "1"
            ]
          },
          "metadata": {},
          "execution_count": 104
        }
      ]
    },
    {
      "cell_type": "code",
      "source": [
        "X = np.array([ [1,2,4],\n",
        "               [2,3,4],\n",
        "               [2,3,2],\n",
        "               [4,5,6]])\n",
        "\n",
        "w = [10,20,30]\n",
        "\n",
        "print(X)\n",
        "print('  ')\n",
        "print(w)\n",
        "print(X.size)\n",
        "print(X.shape[0])\n",
        "\n",
        "print(X+w)\n",
        "\n",
        "v = np.array([-1,0,1,0], ndmin=2).T #broadcasting\n",
        "print(X*v)"
      ],
      "metadata": {
        "colab": {
          "base_uri": "https://localhost:8080/"
        },
        "id": "ropEm0ce-iY7",
        "outputId": "fbe37fdc-7271-4829-c9a1-8ddbc66dfb8d"
      },
      "execution_count": 115,
      "outputs": [
        {
          "output_type": "stream",
          "name": "stdout",
          "text": [
            "[[1 2 4]\n",
            " [2 3 4]\n",
            " [2 3 2]\n",
            " [4 5 6]]\n",
            "  \n",
            "[10, 20, 30]\n",
            "12\n",
            "4\n",
            "[[11 22 34]\n",
            " [12 23 34]\n",
            " [12 23 32]\n",
            " [14 25 36]]\n",
            "[[-1 -2 -4]\n",
            " [ 0  0  0]\n",
            " [ 2  3  2]\n",
            " [ 0  0  0]]\n"
          ]
        }
      ]
    },
    {
      "cell_type": "code",
      "source": [
        "\n",
        "alphabet = \"abcdefghijklmnopqrstuvwxyz\"\n",
        "for i in range(len(alphabet)):\n",
        "  position = i+1\n",
        "  if (position == 1):\n",
        "    ordind = 'st'\n",
        "  elif (position == 2):\n",
        "    ordind = 'nd'\n",
        "  elif (position== 3):\n",
        "    ordind = 'rd'\n",
        "  else:\n",
        "    ordind = 'th'\n",
        "  print(f'{alphabet[i]} is the {position}{ordind} letter')\n"
      ],
      "metadata": {
        "colab": {
          "base_uri": "https://localhost:8080/"
        },
        "id": "K987e6Y0Dp0Y",
        "outputId": "18b1c5a6-dbfe-457a-f03a-340a8bcdcc6c"
      },
      "execution_count": 6,
      "outputs": [
        {
          "output_type": "stream",
          "name": "stdout",
          "text": [
            "a is the 1st letter\n",
            "b is the 2nd letter\n",
            "c is the 3rd letter\n",
            "d is the 4th letter\n",
            "e is the 5th letter\n",
            "f is the 6th letter\n",
            "g is the 7th letter\n",
            "h is the 8th letter\n",
            "i is the 9th letter\n",
            "j is the 10th letter\n",
            "k is the 11th letter\n",
            "l is the 12th letter\n",
            "m is the 13th letter\n",
            "n is the 14th letter\n",
            "o is the 15th letter\n",
            "p is the 16th letter\n",
            "q is the 17th letter\n",
            "r is the 18th letter\n",
            "s is the 19th letter\n",
            "t is the 20th letter\n",
            "u is the 21th letter\n",
            "v is the 22th letter\n",
            "w is the 23th letter\n",
            "x is the 24th letter\n",
            "y is the 25th letter\n",
            "z is the 26th letter\n"
          ]
        }
      ]
    }
  ]
}