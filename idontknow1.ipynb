{
  "nbformat": 4,
  "nbformat_minor": 0,
  "metadata": {
    "colab": {
      "provenance": [],
      "authorship_tag": "ABX9TyPVNu7dLpVn5hWs/iDVX/e/",
      "include_colab_link": true
    },
    "kernelspec": {
      "name": "python3",
      "display_name": "Python 3"
    },
    "language_info": {
      "name": "python"
    }
  },
  "cells": [
    {
      "cell_type": "markdown",
      "metadata": {
        "id": "view-in-github",
        "colab_type": "text"
      },
      "source": [
        "<a href=\"https://colab.research.google.com/github/vishnu-meera/ipynb-files/blob/main/idontknow1.ipynb\" target=\"_parent\"><img src=\"https://colab.research.google.com/assets/colab-badge.svg\" alt=\"Open In Colab\"/></a>"
      ]
    },
    {
      "cell_type": "code",
      "execution_count": 15,
      "metadata": {
        "colab": {
          "base_uri": "https://localhost:8080/",
          "height": 35
        },
        "id": "0H0aS9CX8Kia",
        "outputId": "0e471d29-0fd0-4c62-d75b-0ba70b037b8f"
      },
      "outputs": [
        {
          "output_type": "execute_result",
          "data": {
            "text/plain": [
              "'Mike is a nice guy'"
            ],
            "application/vnd.google.colaboratory.intrinsic+json": {
              "type": "string"
            }
          },
          "metadata": {},
          "execution_count": 15
        }
      ],
      "source": [
        "text = '345dfyug ecin a si ekiM 93845d'\n",
        "text[-8:4:-1]"
      ]
    },
    {
      "cell_type": "code",
      "source": [
        "var =[10,20,30,20.5]\n",
        "mean = sum(var)/len(var)\n",
        "print('the mean of sum is ' + str(mean))"
      ],
      "metadata": {
        "colab": {
          "base_uri": "https://localhost:8080/"
        },
        "id": "wL9mp_sCDAfk",
        "outputId": "eb327754-b5f8-451d-dedc-da7e9d8c4b72"
      },
      "execution_count": 19,
      "outputs": [
        {
          "output_type": "stream",
          "name": "stdout",
          "text": [
            "the mean of sum is 20.125\n"
          ]
        }
      ]
    }
  ]
}